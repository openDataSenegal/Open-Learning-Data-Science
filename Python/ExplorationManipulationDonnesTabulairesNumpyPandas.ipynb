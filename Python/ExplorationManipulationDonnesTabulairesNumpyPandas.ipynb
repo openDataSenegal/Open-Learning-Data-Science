{
 "cells": [
  {
   "cell_type": "markdown",
   "id": "c409e4a4-9fe6-4e96-857a-e2a336da695f",
   "metadata": {},
   "source": [
    "# <center>Panongbene Sawadogo</center>\n",
    "📩 **Exemple de projet développé** : https://panongbene.com/\n",
    "\n",
    "📩 **Contact** : amet1900@gmail.com\n",
    "\n",
    "🌐 **Linkedin** : https://www.linkedin.com/in/panongbene-jean-mohamed-sawadogo-33234a168/\n",
    "\n",
    "🗓️ **Dernière modification** : 14 juillet 2025\n",
    "\n",
    "# <center>Exploration et Manipulation des données Tabulaires avec Python (Numpy et Pandas)</center>"
   ]
  },
  {
   "cell_type": "markdown",
   "id": "e836e9b5-6ebc-429b-99ef-21b07b9debe6",
   "metadata": {},
   "source": [
    "#### Importation des bibliothèques essentielles pour l'analyse de données\n",
    "**numpy** : bibliothèque pour le calcul numérique, manipulation de tableaux (arrays), fonctions mathématiques rapides\n",
    "\n",
    "**pandas** : bibliothèque pour la manipulation et l’analyse de données sous forme de tableaux (DataFrames, Series)\n",
    "\n",
    "**matplotlib** : est une bibliothèque Python populaire pour la visualisation de données. Elle permet de créer des graphiques statiques, animés ou interactifs (lignes, histogrammes, camemberts, etc.)."
   ]
  },
  {
   "cell_type": "code",
   "execution_count": null,
   "id": "1df43a0d-3163-4327-8007-ed6d659e9828",
   "metadata": {},
   "outputs": [],
   "source": [
    "#!pip install numpy\n",
    "#!pip install pandas\n",
    "#!pip install matplotlib"
   ]
  },
  {
   "cell_type": "code",
   "execution_count": 18,
   "id": "ee28e4b5-682d-454b-a2a3-54660dfc8b48",
   "metadata": {},
   "outputs": [],
   "source": [
    "import numpy as np\n",
    "import pandas as pd\n",
    "import matplotlib.pyplot as plt"
   ]
  },
  {
   "cell_type": "markdown",
   "id": "f65ad338-3038-4f6e-82cc-3592fc9706e0",
   "metadata": {},
   "source": [
    "## NumPy"
   ]
  },
  {
   "cell_type": "markdown",
   "id": "f7e2b3c0-f72c-4f84-be1a-119b7c047264",
   "metadata": {},
   "source": [
    "#### 1. Créer un tableau (array) NumPy"
   ]
  },
  {
   "cell_type": "code",
   "execution_count": 3,
   "id": "5fdeb620-5bc9-4906-83a9-f567a21690ae",
   "metadata": {},
   "outputs": [
    {
     "name": "stdout",
     "output_type": "stream",
     "text": [
      "Tableau 1D : [1 2 3 4 5]\n"
     ]
    }
   ],
   "source": [
    "# Création d'un tableau 1D (vecteur)\n",
    "a = np.array([1, 2, 3, 4, 5])\n",
    "print(\"Tableau 1D :\", a)"
   ]
  },
  {
   "cell_type": "code",
   "execution_count": null,
   "id": "71964764-8f51-4b29-8a45-217e25785172",
   "metadata": {},
   "outputs": [],
   "source": [
    "# Création d'un tableau 2D (matrice)\n",
    "b = np.array([[1, 2], [3, 4]])\n",
    "print(\"Tableau 2D :\\n\", b)"
   ]
  },
  {
   "cell_type": "markdown",
   "id": "ca267506-cab8-4a63-b344-393f0fe2ed71",
   "metadata": {},
   "source": [
    "#### 2. Générer des tableaux automatiques"
   ]
  },
  {
   "cell_type": "code",
   "execution_count": null,
   "id": "3a87ef12-277b-4194-a82e-4ae0524bd96b",
   "metadata": {},
   "outputs": [],
   "source": [
    "# Un tableau rempli de zéros\n",
    "z = np.zeros((2, 3))  # 2 lignes, 3 colonnes\n",
    "print(\"Zéros :\\n\", z)"
   ]
  },
  {
   "cell_type": "code",
   "execution_count": null,
   "id": "8291a300-cf19-4fbd-9602-0406591a25d0",
   "metadata": {},
   "outputs": [],
   "source": [
    "# Un tableau rempli de 1\n",
    "o = np.ones((3, 3))\n",
    "print(\"Uns :\\n\", o)"
   ]
  },
  {
   "cell_type": "code",
   "execution_count": null,
   "id": "34faa7be-5083-4a4f-8e24-3a22fe97069e",
   "metadata": {},
   "outputs": [],
   "source": [
    "# Un tableau avec des valeurs aléatoires entre 0 et 1\n",
    "rand = np.random.rand(2, 2)\n",
    "print(\"Aléatoire :\\n\", rand)"
   ]
  },
  {
   "cell_type": "code",
   "execution_count": null,
   "id": "1015d8af-3dff-4b58-a9b7-f624d83af298",
   "metadata": {},
   "outputs": [],
   "source": [
    "# Une suite de nombres de 0 à 9\n",
    "suite = np.arange(10)\n",
    "print(\"Suite 0 à 9 :\", suite)"
   ]
  },
  {
   "cell_type": "markdown",
   "id": "5be17d40-3f8b-45be-ae9e-6eb2139502be",
   "metadata": {},
   "source": [
    "#### 3. Opérations mathématiques simples"
   ]
  },
  {
   "cell_type": "code",
   "execution_count": null,
   "id": "0cf23e55-7be4-4a42-b962-96cc1a1a71fc",
   "metadata": {},
   "outputs": [],
   "source": [
    "a = np.array([1, 2, 3])\n",
    "b = np.array([4, 5, 6])"
   ]
  },
  {
   "cell_type": "code",
   "execution_count": null,
   "id": "5f0f0051-cf51-46e6-9dbb-6da8cdf99cd6",
   "metadata": {},
   "outputs": [],
   "source": [
    "# Addition élément par élément\n",
    "print(\"Addition :\", a + b)"
   ]
  },
  {
   "cell_type": "code",
   "execution_count": null,
   "id": "7af370ee-8d54-4569-9c6d-b9901fe856ce",
   "metadata": {},
   "outputs": [],
   "source": [
    "# Multiplication élément par élément\n",
    "print(\"Multiplication :\", a * b)"
   ]
  },
  {
   "cell_type": "code",
   "execution_count": null,
   "id": "21db5694-1efd-4ac8-ad6f-c98b0c5fffd0",
   "metadata": {},
   "outputs": [],
   "source": [
    "# Racine carrée\n",
    "print(\"Racine carrée :\", np.sqrt(a))"
   ]
  },
  {
   "cell_type": "code",
   "execution_count": null,
   "id": "6d330708-3dfd-4631-96bb-e3f56d08d276",
   "metadata": {},
   "outputs": [],
   "source": [
    "# Moyenne\n",
    "print(\"Moyenne :\", np.mean(b))"
   ]
  },
  {
   "cell_type": "markdown",
   "id": "2a14f3c9-b7d0-49a6-a2df-be53e1475961",
   "metadata": {},
   "source": [
    "#### 4. Indexation et slicing"
   ]
  },
  {
   "cell_type": "code",
   "execution_count": null,
   "id": "ec9a5938-db27-4be0-9c00-8c6ae13b86d4",
   "metadata": {},
   "outputs": [],
   "source": [
    "tab = np.array([10, 20, 30, 40, 50])\n",
    "\n",
    "# Accéder au premier élément\n",
    "print(\"Premier élément :\", tab[0])"
   ]
  },
  {
   "cell_type": "code",
   "execution_count": null,
   "id": "68bf58a1-e20f-434f-8e9b-aca8edee8fdf",
   "metadata": {},
   "outputs": [],
   "source": [
    "# Accéder aux 3 premiers\n",
    "print(\"3 premiers éléments :\", tab[:3])"
   ]
  },
  {
   "cell_type": "code",
   "execution_count": null,
   "id": "d5260952-90f0-4228-a94f-ece0d3968e40",
   "metadata": {},
   "outputs": [],
   "source": [
    "# Modifier un élément\n",
    "tab[2] = 99\n",
    "print(\"Après modification :\", tab)"
   ]
  },
  {
   "cell_type": "markdown",
   "id": "f8faab84-9a43-44bd-876a-f1d3fb0748e3",
   "metadata": {},
   "source": [
    "#### 5. Forme (shape) et dimensions"
   ]
  },
  {
   "cell_type": "code",
   "execution_count": null,
   "id": "c5b82b53-4640-4074-bd32-1fc1d2799d29",
   "metadata": {},
   "outputs": [],
   "source": [
    "matrice = np.array([[1, 2, 3], [4, 5, 6]])\n",
    "print(\"Forme :\", matrice.shape)       # (2 lignes, 3 colonnes)\n",
    "print(\"Nombre de dimensions :\", matrice.ndim)  # 2D\n",
    "print(\"Nombre total d'éléments :\", matrice.size)"
   ]
  },
  {
   "cell_type": "markdown",
   "id": "8510b7b9-24d8-4709-b154-369fb1d46eb1",
   "metadata": {},
   "source": [
    "## Pandas"
   ]
  },
  {
   "cell_type": "markdown",
   "id": "0bbaef00-4e62-496c-bdec-e1991d3fed13",
   "metadata": {},
   "source": [
    "#### 1. Créer un DataFrame manuellement"
   ]
  },
  {
   "cell_type": "code",
   "execution_count": 4,
   "id": "b6d04322-66a6-41a2-ba5a-c89a7e180ef4",
   "metadata": {},
   "outputs": [
    {
     "name": "stdout",
     "output_type": "stream",
     "text": [
      "       Nom  Âge      Ville\n",
      "0    Alice   25      Paris\n",
      "1      Bob   30       Lyon\n",
      "2  Charlie   35  Marseille\n"
     ]
    }
   ],
   "source": [
    "# Dictionnaire de données\n",
    "donnees = {\n",
    "    \"Nom\": [\"Alice\", \"Bob\", \"Charlie\"],\n",
    "    \"Âge\": [25, 30, 35],\n",
    "    \"Ville\": [\"Paris\", \"Lyon\", \"Marseille\"]\n",
    "}\n",
    "\n",
    "# Création du DataFrame\n",
    "df = pd.DataFrame(donnees)\n",
    "\n",
    "print(df)"
   ]
  },
  {
   "cell_type": "markdown",
   "id": "0aab031e-10e3-4dc6-bc1a-3fd3c443ccb1",
   "metadata": {},
   "source": [
    "#### 2. Lire un fichier CSV"
   ]
  },
  {
   "cell_type": "code",
   "execution_count": 6,
   "id": "36c25098-ca07-4b81-be06-724ff4d72e3d",
   "metadata": {},
   "outputs": [
    {
     "data": {
      "text/html": [
       "<div>\n",
       "<style scoped>\n",
       "    .dataframe tbody tr th:only-of-type {\n",
       "        vertical-align: middle;\n",
       "    }\n",
       "\n",
       "    .dataframe tbody tr th {\n",
       "        vertical-align: top;\n",
       "    }\n",
       "\n",
       "    .dataframe thead th {\n",
       "        text-align: right;\n",
       "    }\n",
       "</style>\n",
       "<table border=\"1\" class=\"dataframe\">\n",
       "  <thead>\n",
       "    <tr style=\"text-align: right;\">\n",
       "      <th></th>\n",
       "      <th>studyName</th>\n",
       "      <th>Sample Number</th>\n",
       "      <th>Species</th>\n",
       "      <th>Region</th>\n",
       "      <th>Island</th>\n",
       "      <th>Stage</th>\n",
       "      <th>Individual ID</th>\n",
       "      <th>Clutch Completion</th>\n",
       "      <th>Date Egg</th>\n",
       "      <th>Culmen Length (mm)</th>\n",
       "      <th>Culmen Depth (mm)</th>\n",
       "      <th>Flipper Length (mm)</th>\n",
       "      <th>Body Mass (g)</th>\n",
       "      <th>Sex</th>\n",
       "      <th>Delta 15 N (o/oo)</th>\n",
       "      <th>Delta 13 C (o/oo)</th>\n",
       "      <th>Comments</th>\n",
       "    </tr>\n",
       "  </thead>\n",
       "  <tbody>\n",
       "    <tr>\n",
       "      <th>0</th>\n",
       "      <td>PAL0708</td>\n",
       "      <td>1</td>\n",
       "      <td>Adelie Penguin (Pygoscelis adeliae)</td>\n",
       "      <td>Anvers</td>\n",
       "      <td>Torgersen</td>\n",
       "      <td>Adult, 1 Egg Stage</td>\n",
       "      <td>N1A1</td>\n",
       "      <td>Yes</td>\n",
       "      <td>11/11/07</td>\n",
       "      <td>39.1</td>\n",
       "      <td>18.7</td>\n",
       "      <td>181.0</td>\n",
       "      <td>3750.0</td>\n",
       "      <td>MALE</td>\n",
       "      <td>NaN</td>\n",
       "      <td>NaN</td>\n",
       "      <td>Not enough blood for isotopes.</td>\n",
       "    </tr>\n",
       "    <tr>\n",
       "      <th>1</th>\n",
       "      <td>PAL0708</td>\n",
       "      <td>2</td>\n",
       "      <td>Adelie Penguin (Pygoscelis adeliae)</td>\n",
       "      <td>Anvers</td>\n",
       "      <td>Torgersen</td>\n",
       "      <td>Adult, 1 Egg Stage</td>\n",
       "      <td>N1A2</td>\n",
       "      <td>Yes</td>\n",
       "      <td>11/11/07</td>\n",
       "      <td>39.5</td>\n",
       "      <td>17.4</td>\n",
       "      <td>186.0</td>\n",
       "      <td>3800.0</td>\n",
       "      <td>FEMALE</td>\n",
       "      <td>8.94956</td>\n",
       "      <td>-24.69454</td>\n",
       "      <td>NaN</td>\n",
       "    </tr>\n",
       "    <tr>\n",
       "      <th>2</th>\n",
       "      <td>PAL0708</td>\n",
       "      <td>3</td>\n",
       "      <td>Adelie Penguin (Pygoscelis adeliae)</td>\n",
       "      <td>Anvers</td>\n",
       "      <td>Torgersen</td>\n",
       "      <td>Adult, 1 Egg Stage</td>\n",
       "      <td>N2A1</td>\n",
       "      <td>Yes</td>\n",
       "      <td>11/16/07</td>\n",
       "      <td>40.3</td>\n",
       "      <td>18.0</td>\n",
       "      <td>195.0</td>\n",
       "      <td>3250.0</td>\n",
       "      <td>FEMALE</td>\n",
       "      <td>8.36821</td>\n",
       "      <td>-25.33302</td>\n",
       "      <td>NaN</td>\n",
       "    </tr>\n",
       "    <tr>\n",
       "      <th>3</th>\n",
       "      <td>PAL0708</td>\n",
       "      <td>4</td>\n",
       "      <td>Adelie Penguin (Pygoscelis adeliae)</td>\n",
       "      <td>Anvers</td>\n",
       "      <td>Torgersen</td>\n",
       "      <td>Adult, 1 Egg Stage</td>\n",
       "      <td>N2A2</td>\n",
       "      <td>Yes</td>\n",
       "      <td>11/16/07</td>\n",
       "      <td>NaN</td>\n",
       "      <td>NaN</td>\n",
       "      <td>NaN</td>\n",
       "      <td>NaN</td>\n",
       "      <td>NaN</td>\n",
       "      <td>NaN</td>\n",
       "      <td>NaN</td>\n",
       "      <td>Adult not sampled.</td>\n",
       "    </tr>\n",
       "    <tr>\n",
       "      <th>4</th>\n",
       "      <td>PAL0708</td>\n",
       "      <td>5</td>\n",
       "      <td>Adelie Penguin (Pygoscelis adeliae)</td>\n",
       "      <td>Anvers</td>\n",
       "      <td>Torgersen</td>\n",
       "      <td>Adult, 1 Egg Stage</td>\n",
       "      <td>N3A1</td>\n",
       "      <td>Yes</td>\n",
       "      <td>11/16/07</td>\n",
       "      <td>36.7</td>\n",
       "      <td>19.3</td>\n",
       "      <td>193.0</td>\n",
       "      <td>3450.0</td>\n",
       "      <td>FEMALE</td>\n",
       "      <td>8.76651</td>\n",
       "      <td>-25.32426</td>\n",
       "      <td>NaN</td>\n",
       "    </tr>\n",
       "  </tbody>\n",
       "</table>\n",
       "</div>"
      ],
      "text/plain": [
       "  studyName  Sample Number                              Species  Region  \\\n",
       "0   PAL0708              1  Adelie Penguin (Pygoscelis adeliae)  Anvers   \n",
       "1   PAL0708              2  Adelie Penguin (Pygoscelis adeliae)  Anvers   \n",
       "2   PAL0708              3  Adelie Penguin (Pygoscelis adeliae)  Anvers   \n",
       "3   PAL0708              4  Adelie Penguin (Pygoscelis adeliae)  Anvers   \n",
       "4   PAL0708              5  Adelie Penguin (Pygoscelis adeliae)  Anvers   \n",
       "\n",
       "      Island               Stage Individual ID Clutch Completion  Date Egg  \\\n",
       "0  Torgersen  Adult, 1 Egg Stage          N1A1               Yes  11/11/07   \n",
       "1  Torgersen  Adult, 1 Egg Stage          N1A2               Yes  11/11/07   \n",
       "2  Torgersen  Adult, 1 Egg Stage          N2A1               Yes  11/16/07   \n",
       "3  Torgersen  Adult, 1 Egg Stage          N2A2               Yes  11/16/07   \n",
       "4  Torgersen  Adult, 1 Egg Stage          N3A1               Yes  11/16/07   \n",
       "\n",
       "   Culmen Length (mm)  Culmen Depth (mm)  Flipper Length (mm)  Body Mass (g)  \\\n",
       "0                39.1               18.7                181.0         3750.0   \n",
       "1                39.5               17.4                186.0         3800.0   \n",
       "2                40.3               18.0                195.0         3250.0   \n",
       "3                 NaN                NaN                  NaN            NaN   \n",
       "4                36.7               19.3                193.0         3450.0   \n",
       "\n",
       "      Sex  Delta 15 N (o/oo)  Delta 13 C (o/oo)  \\\n",
       "0    MALE                NaN                NaN   \n",
       "1  FEMALE            8.94956          -24.69454   \n",
       "2  FEMALE            8.36821          -25.33302   \n",
       "3     NaN                NaN                NaN   \n",
       "4  FEMALE            8.76651          -25.32426   \n",
       "\n",
       "                         Comments  \n",
       "0  Not enough blood for isotopes.  \n",
       "1                             NaN  \n",
       "2                             NaN  \n",
       "3              Adult not sampled.  \n",
       "4                             NaN  "
      ]
     },
     "execution_count": 6,
     "metadata": {},
     "output_type": "execute_result"
    }
   ],
   "source": [
    "# Charger un fichier CSV\n",
    "df = pd.read_csv(\"penguins_lter.csv\")\n",
    "# Affiche les 5 premières lignes\n",
    "df.head()"
   ]
  },
  {
   "cell_type": "markdown",
   "id": "941cb8e9-063c-4dc7-9a3a-218db2839d17",
   "metadata": {},
   "source": [
    "#### 3. Explorer les données rapidement"
   ]
  },
  {
   "cell_type": "code",
   "execution_count": null,
   "id": "7a75bfd0-380d-4a1c-af7c-bc43bb5cf7f3",
   "metadata": {},
   "outputs": [],
   "source": [
    "# Résumé des types et du nombre de lignes/colonnes\n",
    "df.info()"
   ]
  },
  {
   "cell_type": "code",
   "execution_count": null,
   "id": "66e3a5ca-4ade-43ef-b11f-f1a02a2fb1ca",
   "metadata": {},
   "outputs": [],
   "source": [
    "# Statistiques descriptives des colonnes numériques\n",
    "df.describe()"
   ]
  },
  {
   "cell_type": "code",
   "execution_count": null,
   "id": "3328c86a-6fb3-4292-af57-d61775e2e55c",
   "metadata": {},
   "outputs": [],
   "source": [
    "# Noms des colonnes\n",
    "df.columns"
   ]
  },
  {
   "cell_type": "code",
   "execution_count": null,
   "id": "2a208987-1d89-4234-afd2-3793873ed484",
   "metadata": {},
   "outputs": [],
   "source": [
    "# Nombre de lignes et colonnes\n",
    "df.shape"
   ]
  },
  {
   "cell_type": "markdown",
   "id": "e5a091af-4b56-4f2a-af34-a79a56c9dd03",
   "metadata": {},
   "source": [
    "#### 4. Accéder à des colonnes ou lignes"
   ]
  },
  {
   "cell_type": "code",
   "execution_count": 11,
   "id": "6f84613f-229f-46f1-b01a-870690d32d9b",
   "metadata": {},
   "outputs": [],
   "source": [
    "# Accès à une colonne\n",
    "print(df[\"Date Egg\"])"
   ]
  },
  {
   "cell_type": "code",
   "execution_count": 13,
   "id": "4c835838-43d5-420a-b308-f7e364e79e3a",
   "metadata": {},
   "outputs": [],
   "source": [
    "# Accès à plusieurs colonnes\n",
    "print(df[[\"Date Egg\", \"Culmen Length (mm)\"]])"
   ]
  },
  {
   "cell_type": "code",
   "execution_count": null,
   "id": "f434f0fd-7f69-4324-a0a8-a67476b523ad",
   "metadata": {},
   "outputs": [],
   "source": [
    "# Accès à une ligne par son index\n",
    "print(df.iloc[0])"
   ]
  },
  {
   "cell_type": "code",
   "execution_count": null,
   "id": "127ea0e5-ea8a-4d82-9148-067607510c6d",
   "metadata": {},
   "outputs": [],
   "source": [
    "#### 5. Filtrer des lignes selon une condition"
   ]
  },
  {
   "cell_type": "code",
   "execution_count": null,
   "id": "4e9f77f0-45e8-46d3-a3b1-633734d30168",
   "metadata": {},
   "outputs": [],
   "source": [
    "# Filtrer\n",
    "df[df[\"Body Mass (g)\"] > 3700]"
   ]
  },
  {
   "cell_type": "markdown",
   "id": "12028bab-0015-477a-bf11-9dfddf12f06e",
   "metadata": {},
   "source": [
    "#### 5. Ajouter ou modifier une colonne"
   ]
  },
  {
   "cell_type": "code",
   "execution_count": null,
   "id": "a529c4dd-381a-482d-af20-006c59cbc3b8",
   "metadata": {},
   "outputs": [],
   "source": [
    "# Ajouter une colonne \"Pays\"\n",
    "df[\"Pays\"] = \"Sénégal\""
   ]
  },
  {
   "cell_type": "code",
   "execution_count": null,
   "id": "3b337c5a-0b1d-4929-9f42-a0e40d77411d",
   "metadata": {},
   "outputs": [],
   "source": [
    "# Créer une colonne calculée\n",
    "df[\"Âge dans 5 ans\"] = df[\"Body Mass (g)\"]/100\n",
    "df"
   ]
  },
  {
   "cell_type": "markdown",
   "id": "20d46421-cd73-4d2f-a734-0b42a2a80d44",
   "metadata": {},
   "source": [
    "#### 6. Gérer les valeurs manquantes"
   ]
  },
  {
   "cell_type": "code",
   "execution_count": null,
   "id": "d3f6a902-ff64-40a6-84f0-4ceb3eeaa8cf",
   "metadata": {},
   "outputs": [],
   "source": [
    "# Compter les valeurs manquantes\n",
    "print(df.isnull().sum())"
   ]
  },
  {
   "cell_type": "code",
   "execution_count": null,
   "id": "3184bed9-71a3-4620-a3f5-09cc4862c72c",
   "metadata": {},
   "outputs": [],
   "source": [
    "# Supprimer les lignes avec valeurs manquantes\n",
    "df_supprimer = df.dropna()"
   ]
  },
  {
   "cell_type": "code",
   "execution_count": null,
   "id": "80795ff4-fd15-447b-a46b-d55934c97451",
   "metadata": {},
   "outputs": [],
   "source": [
    "# Remplacer les valeurs manquantes par un mot\n",
    "df_replace = df.fillna(\"Inconnu\")"
   ]
  },
  {
   "cell_type": "markdown",
   "id": "6ff7178d-6c2f-4a39-8751-bfe64f77f2e2",
   "metadata": {},
   "source": [
    "#### 6. Exporter les données nettoyées"
   ]
  },
  {
   "cell_type": "code",
   "execution_count": null,
   "id": "941a8791-346f-41b2-9f7d-e10eaa93440c",
   "metadata": {},
   "outputs": [],
   "source": [
    "df_supprimer.to_csv(\"donnees_nettoyees.csv\", index=False)"
   ]
  },
  {
   "cell_type": "markdown",
   "id": "583e5b0d-7485-416d-890d-e798e23f2267",
   "metadata": {},
   "source": [
    "#### 7. Tracer un histogramme de distribution"
   ]
  },
  {
   "cell_type": "code",
   "execution_count": 21,
   "id": "5e3c60e9-ece1-47d9-bae9-2ca83db09367",
   "metadata": {},
   "outputs": [
    {
     "data": {
      "image/png": "[encoded data removed]",
      "text/plain": [
       "<Figure size 640x480 with 1 Axes>"
      ]
     },
     "metadata": {},
     "output_type": "display_data"
    }
   ],
   "source": [
    "df[\"Clutch Completion\"].value_counts().plot(kind=\"bar\", title=\"Clutch Completion\")\n",
    "plt.ylabel(\"Nombre de Clutch Completion\")\n",
    "plt.show()\n"
   ]
  },
  {
   "cell_type": "markdown",
   "id": "a738b85b-db09-42c3-85e5-9c0ec431d40f",
   "metadata": {},
   "source": [
    "#### 8. Tracer une courbe d’évolution"
   ]
  },
  {
   "cell_type": "code",
   "execution_count": null,
   "id": "54df7228-c8d8-4a43-9a8a-75a6ee634519",
   "metadata": {},
   "outputs": [],
   "source": [
    "df.plot(x=\"Année\", y=\"Population\", kind=\"line\", title=\"Évolution de la population\")\n",
    "plt.ylabel(\"Population\")\n",
    "plt.grid(True)\n",
    "plt.show()"
   ]
  },
  {
   "cell_type": "code",
   "execution_count": 23,
   "id": "bd753268-6aff-4523-b308-b286459cbdc9",
   "metadata": {},
   "outputs": [
    {
     "data": {
      "image/png": "[encoded data removed]",
      "text/plain": [
       "<Figure size 640x480 with 1 Axes>"
      ]
     },
     "metadata": {},
     "output_type": "display_data"
    }
   ],
   "source": [
    "df[\"Culmen Length (mm)\"].plot(kind=\"hist\", bins=5, title=\"Culmen Length (mm)\")\n",
    "plt.xlabel(\"Culmen Length (mm)\")\n",
    "plt.show()"
   ]
  },
  {
   "cell_type": "code",
   "execution_count": 25,
   "id": "3fbe9fe4-b0d4-4f6b-ba6b-6039de7d1d4a",
   "metadata": {},
   "outputs": [
    {
     "data": {
      "image/png": "[encoded data removed]",
      "text/plain": [
       "<Figure size 640x480 with 1 Axes>"
      ]
     },
     "metadata": {},
     "output_type": "display_data"
    }
   ],
   "source": [
    "df.plot(x=\"Date Egg\", y=\"Culmen Length (mm)\", kind=\"line\", title=\"Évolution de la Culmen Length (mm)\")\n",
    "plt.ylabel(\"Population\")\n",
    "plt.grid(True)\n",
    "plt.show()"
   ]
  },
  {
   "cell_type": "code",
   "execution_count": null,
   "id": "bf4d5a68-4c93-4fdf-8c36-85a63d4c5029",
   "metadata": {},
   "outputs": [],
   "source": []
  },
  {
   "cell_type": "markdown",
   "id": "2bdce93e-fcc4-4051-b39f-53b1b3897ff5",
   "metadata": {},
   "source": [
    "# **Exploration Écologique des Manchots Antarctiques : Analyse de Données Morphologiques**\n",
    "\n",
    "Le CSV **penguins_lter.csv** est le jeu de données des manchots de Palmer (Palmer Penguins), utilisé pour l'apprentissage de l’analyse de données. À partir de ce fichier, nous allons réaliser un mini-projet d’analyse et de visualisation de données utilisant Pandas, NumPy et Matplotlib/Seaborn.\n",
    "\n",
    "## **1. Objectifs Pédagogiques**\n",
    "\n",
    "- Maîtriser les opérations de base sur les DataFrames avec Pandas  \n",
    "- Appliquer des calculs statistiques avec NumPy  \n",
    "- Créer des visualisations scientifiques avec Matplotlib/Seaborn  \n",
    "- Développer un regard critique sur la qualité des données  \n",
    "- Produire une analyse écologique simple  \n",
    "\n",
    "### **2. Questions**  \n",
    "\n",
    "* **Q-1**: Quelle est la taille des données ?\n",
    "  \n",
    "* **Q-2**: Combien y a-t-il d'espèces différentes ? Pour chaque espèce, donnez le nombre.  \n",
    "\n",
    "* **Q-3**: Combien y a-t-il de manchots *Adelie Penguin (Pygoscelis adeliae)* mâles ?  \n",
    "\n",
    "* **Q-4**: Combien y a-t-il de manchots *Adelie Penguin (Pygoscelis adeliae)* mâles avec une *Flipper Length (mm)* supérieure à 185 ?  \n",
    "\n",
    "* **Q-5**: Supprimez la colonne *Comments*.  \n",
    "\n",
    "* **Q-6**: Supprimez toutes les lignes dont on ne connaît pas le sexe de l'animal. Combien de lignes restent-il ?\n",
    "\n",
    "* **Q-7**: Tracez un diagramme en barres de la répartition des animaux par île (*Island*).  \n",
    "\n",
    "* **Q-8**: Tracez la courbe de la colonne *Culmen Length (mm)* en fonction du *Sample Number*.  \n",
    "\n",
    "* **Q-9**: Calculez la variance et la moyenne de *Culmen Depth (mm)* des manchots femelles.  \n",
    "\n",
    "* **Q-10**: Quelles sont les corrélations entre les variables numériques (*Culmen Length*, *Culmen Depth*, *Flipper Length*, *Body Mass*) ? Affichez la matrice de corrélation sous forme de heatmap.\n",
    "\n",
    "* **Q-11**: Comparez les moyennes de *Body Mass (g)* entre les mâles et les femelles de chaque espèce. Quelle espèce montre la plus grande différence de masse entre les sexes ?  \n",
    "\n",
    "* **Q-12**: Existe-t-il une différence statistiquement significative entre les longueurs de bec des espèces *Adelie* et *Gentoo* ? (test t de Student)  \n",
    "\n",
    "* **Q-13**: Réalisez un pairplot (Seaborn) pour visualiser les relations entre toutes les variables numériques, en colorant selon l'espèce.  \n",
    "\n",
    "* **Q-14**: Tracez un graphique en violon (*violinplot*) pour comparer la distribution de la longueur des nageoires selon l’espèce et le sexe.  \n",
    "\n",
    "* **Q-15**: Créez un graphique en nuage de points 3D (avec Matplotlib ou Plotly) utilisant les trois dimensions suivantes : *Culmen Length*, *Flipper Length* et *Body Mass*, avec une couleur par espèce.  \n",
    "\n",
    "* **Q-16**: Y a-t-il des données aberrantes (*outliers*) dans les colonnes *Body Mass (g)* ou *Culmen Length (mm)* ? Proposez une méthode pour les détecter et les exclure.  \n",
    "\n",
    "* **Q-17**: Standardisez les variables numériques (centrées-réduites) afin de les préparer à une modélisation ou une analyse en composantes principales (ACP).  \n",
    "\n",
    "* **Q-18**: Effectuez un clustering par K-means sur les variables numériques. Comparez les clusters obtenus avec les espèces réelles : les groupes sont-ils cohérents ?  \n",
    "\n",
    "* **Q-19**: Réalisez une Analyse en Composantes Principales (ACP) et affichez les deux premières composantes principales en les colorant par espèce. Quelles variables expliquent le mieux la variance ?  \n",
    "\n",
    "* **Q-20**: Que peut-on conclure sur les différences morphologiques entre les espèces ? Sont-elles suffisantes pour les distinguer uniquement sur la base des mesures ?  \n",
    "\n",
    "* **Q-21**: Proposez une hypothèse sur l’influence de l’environnement géographique (île) sur la morphologie des manchots. Appuyez-vous sur les données.  \n",
    "\n",
    "* **Q-22**: En supposant que vous souhaitiez entraîner un modèle de classification supervisée pour prédire l’espèce, quelles variables conserveriez-vous ? Pourquoi ?"
   ]
  },
  {
   "cell_type": "code",
   "execution_count": null,
   "id": "6752d16d-a2dd-4443-a7d5-c93d2e5e35fb",
   "metadata": {},
   "outputs": [],
   "source": []
  },
  {
   "cell_type": "code",
   "execution_count": null,
   "id": "c47e04b9-901e-4d5e-a1e4-9bfed4f16746",
   "metadata": {},
   "outputs": [],
   "source": []
  }
 ],
 "metadata": {
  "kernelspec": {
   "display_name": "Python 3 (ipykernel)",
   "language": "python",
   "name": "python3"
  },
  "language_info": {
   "codemirror_mode": {
    "name": "ipython",
    "version": 3
   },
   "file_extension": ".py",
   "mimetype": "text/x-python",
   "name": "python",
   "nbconvert_exporter": "python",
   "pygments_lexer": "ipython3",
   "version": "3.11.11"
  }
 },
 "nbformat": 4,
 "nbformat_minor": 5
}
